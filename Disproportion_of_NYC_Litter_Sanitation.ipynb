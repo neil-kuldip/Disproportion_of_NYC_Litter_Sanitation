{
  "nbformat": 4,
  "nbformat_minor": 0,
  "metadata": {
    "colab": {
      "name": "Disproportion_of_NYC_Litter_Sanitation.ipynb",
      "provenance": [],
      "toc_visible": true,
      "authorship_tag": "ABX9TyONWHobUbcZj2DjLpU1XmYk",
      "include_colab_link": true
    },
    "kernelspec": {
      "name": "python3",
      "display_name": "Python 3"
    },
    "language_info": {
      "name": "python"
    }
  },
  "cells": [
    {
      "cell_type": "markdown",
      "metadata": {
        "id": "view-in-github",
        "colab_type": "text"
      },
      "source": [
        "<a href=\"https://colab.research.google.com/github/neil-kuldip/Disproportion_of_NYC_Litter_Sanitation/blob/experiment/Disproportion_of_NYC_Litter_Sanitation.ipynb\" target=\"_parent\"><img src=\"https://colab.research.google.com/assets/colab-badge.svg\" alt=\"Open In Colab\"/></a>"
      ]
    },
    {
      "cell_type": "code",
      "metadata": {
        "colab": {
          "base_uri": "https://localhost:8080/"
        },
        "id": "0m6YvgLZZjcz",
        "outputId": "763e8574-3a4b-4609-9f5d-bc06967bb7b6"
      },
      "source": [
        "from google.colab import drive\n",
        "drive.mount('/content/drive')"
      ],
      "execution_count": 1,
      "outputs": [
        {
          "output_type": "stream",
          "name": "stdout",
          "text": [
            "Mounted at /content/drive\n"
          ]
        }
      ]
    },
    {
      "cell_type": "markdown",
      "metadata": {
        "id": "CDRIBH9rjsCY"
      },
      "source": [
        "#Disproportion of NYC Litter Sanitation\n",
        "######This project aims to address the negative association between perceived excessive littering and lower-income districts in New York City. "
      ]
    },
    {
      "cell_type": "code",
      "metadata": {
        "id": "PkReKap_Y05c"
      },
      "source": [
        "import geopandas as gpd\n",
        "from shapely.geometry import Point, Polygon\n",
        "import folium\n",
        "from folium.plugins import MarkerCluster\n",
        "import pandas as pd\n",
        "import pandasql as psql\n",
        "import re\n",
        "import matplotlib.pyplot as plt\n",
        "import numpy as np\n",
        "import seaborn as sns\n",
        "from IPython.display import display, Image, IFrame "
      ],
      "execution_count": 205,
      "outputs": []
    },
    {
      "cell_type": "markdown",
      "metadata": {
        "id": "sQiPxkz6qSu5"
      },
      "source": [
        "##Combining Zip Code Database with Associated Polygons"
      ]
    },
    {
      "cell_type": "markdown",
      "metadata": {
        "id": "Q9gDr2hJikoz"
      },
      "source": [
        "######Loading zip code database"
      ]
    },
    {
      "cell_type": "code",
      "metadata": {
        "id": "RI49vDqVa81U"
      },
      "source": [
        "df = pd.read_csv(\"zip_code_database.csv\")"
      ],
      "execution_count": 25,
      "outputs": []
    },
    {
      "cell_type": "code",
      "metadata": {
        "id": "S3sF94ushci5"
      },
      "source": [
        "nyc_counties = [\"Richmond County\", \"Kings County\", \"Queens County\", \n",
        "                \"Bronx County\", \"New York County\"]\n",
        "col_filt = [\"zip\", \"county\", \"state\", \"longitude\", \"latitude\"]\n",
        "zip_code_boolean = df.county.isin(nyc_counties)\n",
        "state_boolean = df.state.isin([\"NY\"])\n",
        "df = df[zip_code_boolean] \n",
        "df = df[state_boolean]\n",
        "zip_df = df[col_filt]\n",
        "zip_df = zip_df.reset_index(drop=True)\n",
        "df"
      ],
      "execution_count": null,
      "outputs": []
    },
    {
      "cell_type": "markdown",
      "metadata": {
        "id": "b2k2cHAmi31e"
      },
      "source": [
        "######Getting geodataframes for merging zip code with associated polygon data"
      ]
    },
    {
      "cell_type": "code",
      "metadata": {
        "id": "p8RoRTuiifUN"
      },
      "source": [
        "zip_gdf = gpd.GeoDataFrame(zip_df)\n",
        "ZCTA = gpd.read_file(\"Census_ZCTA5/Census_ZCTA5.shp\")\n",
        "ZCTA"
      ],
      "execution_count": null,
      "outputs": []
    },
    {
      "cell_type": "markdown",
      "metadata": {
        "id": "Fq1teiTulhj5"
      },
      "source": [
        "######ZCTA --> Zip Code Tabulation Areas\n",
        "######Filtering the large ZCTA dataset to NYC ZCTAs and having one main geodataframe"
      ]
    },
    {
      "cell_type": "code",
      "metadata": {
        "id": "UPOP0SFslqma"
      },
      "source": [
        "ZCTA[\"ZCTA5CE20\"] = ZCTA[\"ZCTA5CE20\"].astype(int)\n",
        "ZCTA = ZCTA[ZCTA[\"ZCTA5CE20\"] < 11700]\n",
        "\n",
        "ZCTA = ZCTA.rename({\"ZCTA5CE20\" : \"zip\"}, axis=1)\n",
        "ZCTA = ZCTA[[\"zip\", \"geometry\"]]\n",
        "ZCTA_zip_gdf = pd.merge(zip_gdf, ZCTA, how=\"inner\", on=\"zip\")\n",
        "ZCTA_zip_gdf = ZCTA_zip_gdf.reset_index(drop=True)\n",
        "ZCTA_zip_gdf"
      ],
      "execution_count": null,
      "outputs": []
    },
    {
      "cell_type": "markdown",
      "metadata": {
        "id": "vQOA2eLPqn9a"
      },
      "source": [
        "##Filtering ACS(5-Year) Data for Median Income by Zip Code"
      ]
    },
    {
      "cell_type": "markdown",
      "metadata": {
        "id": "epzvEBVKp8LG"
      },
      "source": [
        "#####Loading Median Income Data (ACS(5-Year))"
      ]
    },
    {
      "cell_type": "code",
      "metadata": {
        "id": "DVgdJZgppmOW"
      },
      "source": [
        "acs_df = pd.read_csv(\"ACS(5-Year)_2019/ACS(5-Year)_2019.csv\")"
      ],
      "execution_count": 108,
      "outputs": []
    },
    {
      "cell_type": "markdown",
      "metadata": {
        "id": "1U2LK11Aq-WD"
      },
      "source": [
        "######Format df columns to be the description of the columns (first row)"
      ]
    },
    {
      "cell_type": "code",
      "metadata": {
        "id": "-uScT2WtrJ_0"
      },
      "source": [
        "header_row = 0\n",
        "acs_df.columns = acs_df.iloc[header_row]\n",
        "acs_df = acs_df.drop(header_row)\n",
        "acs_df = acs_df.reset_index(drop=True)"
      ],
      "execution_count": 109,
      "outputs": []
    },
    {
      "cell_type": "markdown",
      "metadata": {
        "id": "7_c9qLSJrVMo"
      },
      "source": [
        "######Filtering column names for:\n",
        "- zipcode, \n",
        "- household median income, \n",
        "- family median income,\n",
        "- married-couple median income, and \n",
        "- non-family median income"
      ]
    },
    {
      "cell_type": "code",
      "metadata": {
        "colab": {
          "base_uri": "https://localhost:8080/"
        },
        "id": "USIv4WEjrhYn",
        "outputId": "cae9c36c-800f-42a7-a74c-121cb66c4867"
      },
      "source": [
        "relevant_col = [\"Geographic Area Name\"]\n",
        "relevant_col += [x for x in acs_df.columns if ((\"Median income\" in x) and (\"Estimate\" in x))]\n",
        "relevant_col"
      ],
      "execution_count": 110,
      "outputs": [
        {
          "output_type": "execute_result",
          "data": {
            "text/plain": [
              "['Geographic Area Name',\n",
              " 'Estimate!!Households!!Median income (dollars)',\n",
              " 'Estimate!!Families!!Median income (dollars)',\n",
              " 'Estimate!!Married-couple families!!Median income (dollars)',\n",
              " 'Estimate!!Nonfamily households!!Median income (dollars)']"
            ]
          },
          "metadata": {},
          "execution_count": 110
        }
      ]
    },
    {
      "cell_type": "markdown",
      "metadata": {
        "id": "rC-O5gxernBM"
      },
      "source": [
        "#####List of nyc_zipcodes to filter df"
      ]
    },
    {
      "cell_type": "code",
      "metadata": {
        "id": "lDQ2NuCkrpal"
      },
      "source": [
        "nyc_zip_codes = list(zip_df.zip)\n",
        "nyc_zip_codes = [str(x) for x in nyc_zip_codes]"
      ],
      "execution_count": 111,
      "outputs": []
    },
    {
      "cell_type": "markdown",
      "metadata": {
        "id": "_welYNuLsAXw"
      },
      "source": [
        "#####Cleaning NA data with zeros for average function"
      ]
    },
    {
      "cell_type": "code",
      "metadata": {
        "id": "XYQ8zpQIr6jB"
      },
      "source": [
        "median_income_df = acs_df[relevant_col].replace(\"-\", \"0\")\n"
      ],
      "execution_count": 112,
      "outputs": []
    },
    {
      "cell_type": "markdown",
      "metadata": {
        "id": "RjMB51JMtCDM"
      },
      "source": [
        "#####Returns just the zip_code in the column cell\n",
        "#####Ex: ZCTA5 10001 -> 10001"
      ]
    },
    {
      "cell_type": "code",
      "metadata": {
        "id": "7g-Kl5TvtGLa"
      },
      "source": [
        "def onlyZip(string):\n",
        "    zip_code = string[6:]\n",
        "    if (len(zip_code) == 4):\n",
        "        zip_code = \"0\" + str(zip_code)\n",
        "    return zip_code"
      ],
      "execution_count": 113,
      "outputs": []
    },
    {
      "cell_type": "markdown",
      "metadata": {
        "id": "wc6gLBtWtPUC"
      },
      "source": [
        "#####Clean zip_code column and filters for only nyc zip codes "
      ]
    },
    {
      "cell_type": "code",
      "metadata": {
        "id": "MS9B6TLYtKjj"
      },
      "source": [
        "new_cols = [\"zip_code\", \"household\", \"family\", \"married_couple\", \"non-family\"]\n",
        "median_income_df.columns = new_cols\n",
        "\n",
        "median_income_df[\"zip_code\"] = median_income_df[\"zip_code\"].apply(onlyZip)\n",
        "zip_code_boolean = median_income_df[\"zip_code\"].isin(nyc_zip_codes)\n",
        "median_income_df = median_income_df[zip_code_boolean]\n",
        "median_income_df = median_income_df.reset_index(drop=True)"
      ],
      "execution_count": 114,
      "outputs": []
    },
    {
      "cell_type": "markdown",
      "metadata": {
        "id": "xTeXes00tym1"
      },
      "source": [
        "#####Create income range categorical data based off the average of each median income\n",
        "#####Data contains $250,000+ as values in some of the columns"
      ]
    },
    {
      "cell_type": "code",
      "metadata": {
        "id": "ICyxqS0Vt2jH"
      },
      "source": [
        "median_average = []\n",
        "median_average_numeric = []\n",
        "for x in median_income_df.index:\n",
        "    high_income = r'250,000\\+'\n",
        "    temp = \" \".join(list(median_income_df.iloc[x]))\n",
        "    if (re.search(high_income, temp)):\n",
        "        median_average.append(\"$200,000+\")\n",
        "        median_average_numeric.append(11)\n",
        "    else:\n",
        "        household = int(median_income_df.loc[x, \"household\"])\n",
        "        family = int(median_income_df.loc[x, \"family\"])\n",
        "        married_couple = int(median_income_df.loc[x, \"married_couple\"])\n",
        "        non_family = int(median_income_df.loc[x, \"non-family\"])\n",
        "        average = (household + family + married_couple + non_family)/4\n",
        "        if (average == 0):\n",
        "            median_average.append(\"N/A\")\n",
        "            median_average_numeric.append(0)\n",
        "        elif (average < 20000):\n",
        "            median_average.append(\"$1-19,999\")\n",
        "            median_average_numeric.append(1)\n",
        "        elif (average < 40000):\n",
        "            median_average.append(\"$20,000-39,999\")\n",
        "            median_average_numeric.append(2)\n",
        "        elif (average < 60000):\n",
        "            median_average.append(\"$40,000-59,999\")\n",
        "            median_average_numeric.append(3)\n",
        "        elif (average < 80000):\n",
        "            median_average.append(\"$60,000-79,999\")\n",
        "            median_average_numeric.append(4)\n",
        "        elif (average < 100000):\n",
        "            median_average.append(\"$80,000-99,999\")\n",
        "            median_average_numeric.append(5)\n",
        "        elif (average < 120000):\n",
        "            median_average.append(\"$100,000-119,999\")\n",
        "            median_average_numeric.append(6)\n",
        "        elif (average < 140000):\n",
        "            median_average.append(\"$120,000-139,999\")\n",
        "            median_average_numeric.append(7)\n",
        "        elif (average < 160000):\n",
        "            median_average.append(\"$140,000-159,999\")\n",
        "            median_average_numeric.append(8)\n",
        "        elif (average < 180000):\n",
        "            median_average.append(\"$160,000-179,999\")\n",
        "            median_average_numeric.append(9)\n",
        "        elif (average < 200000):\n",
        "            median_average.append(\"$180,000-199,999\")\n",
        "            median_average_numeric.append(10)\n",
        "        else:\n",
        "            median_average.append(\"$200,000+\")\n",
        "            median_average_numeric.append(11)\n",
        "\n",
        "median_income_df = median_income_df.assign(median_income_average = median_average, \n",
        "                                           median_income_average_numeric = median_average_numeric)\n",
        "median_income_df"
      ],
      "execution_count": null,
      "outputs": []
    },
    {
      "cell_type": "markdown",
      "metadata": {
        "id": "I5vjwTl1udMU"
      },
      "source": [
        "#####Using pandasql queries to merge zip code df and income df "
      ]
    },
    {
      "cell_type": "code",
      "metadata": {
        "id": "EemceUvAufDE"
      },
      "source": [
        "query = \"\"\"\n",
        "SELECT *\n",
        "FROM median_income_df as M\n",
        "INNER JOIN zip_df as Z\n",
        "ON M.zip_code = Z.zip\n",
        "\"\"\" \n",
        "zip_income_df = psql.sqldf(query)        \n",
        "zip_income_df = zip_income_df.drop([\"household\", \"family\", \"married_couple\", \"non-family\", \"zip\", \"state\"], axis=1)\n",
        "zip_income_df"
      ],
      "execution_count": null,
      "outputs": []
    },
    {
      "cell_type": "markdown",
      "metadata": {
        "id": "GkQjqz5Zu04T"
      },
      "source": [
        "######Using pandas merge to obtain geodataframe version of zip_income.df"
      ]
    },
    {
      "cell_type": "code",
      "metadata": {
        "colab": {
          "base_uri": "https://localhost:8080/",
          "height": 1000
        },
        "id": "OamE1anPu2r_",
        "outputId": "03752aec-41f8-4928-93f1-e6286851fce3"
      },
      "source": [
        "median_income_gdf = gpd.GeoDataFrame(median_income_df)\n",
        "median_income_gdf = median_income_gdf.rename({\"zip_code\" : \"zip\"}, axis=1)\n",
        "median_income_gdf[\"zip\"] = median_income_gdf[\"zip\"].astype(int)\n",
        "ZCTA_income_gdf = pd.merge(ZCTA_zip_gdf, median_income_gdf, how=\"left\", on=\"zip\")\n",
        "ZCTA_income_gdf = ZCTA_income_gdf.drop([\"household\", \"family\", \"married_couple\", \"non-family\", \"state\"], axis=1)\n",
        "ZCTA_income_gdf"
      ],
      "execution_count": 122,
      "outputs": [
        {
          "output_type": "execute_result",
          "data": {
            "text/html": [
              "<div>\n",
              "<style scoped>\n",
              "    .dataframe tbody tr th:only-of-type {\n",
              "        vertical-align: middle;\n",
              "    }\n",
              "\n",
              "    .dataframe tbody tr th {\n",
              "        vertical-align: top;\n",
              "    }\n",
              "\n",
              "    .dataframe thead th {\n",
              "        text-align: right;\n",
              "    }\n",
              "</style>\n",
              "<table border=\"1\" class=\"dataframe\">\n",
              "  <thead>\n",
              "    <tr style=\"text-align: right;\">\n",
              "      <th></th>\n",
              "      <th>zip</th>\n",
              "      <th>county</th>\n",
              "      <th>longitude</th>\n",
              "      <th>latitude</th>\n",
              "      <th>geometry</th>\n",
              "      <th>median_income_average</th>\n",
              "      <th>median_income_average_numeric</th>\n",
              "    </tr>\n",
              "  </thead>\n",
              "  <tbody>\n",
              "    <tr>\n",
              "      <th>0</th>\n",
              "      <td>10001</td>\n",
              "      <td>New York County</td>\n",
              "      <td>-74.00</td>\n",
              "      <td>40.75</td>\n",
              "      <td>POLYGON ((-74.00979 40.75308, -74.00832 40.752...</td>\n",
              "      <td>$100,000-119,999</td>\n",
              "      <td>6.0</td>\n",
              "    </tr>\n",
              "    <tr>\n",
              "      <th>1</th>\n",
              "      <td>10002</td>\n",
              "      <td>New York County</td>\n",
              "      <td>-73.99</td>\n",
              "      <td>40.71</td>\n",
              "      <td>POLYGON ((-73.99750 40.71407, -73.99709 40.714...</td>\n",
              "      <td>$20,000-39,999</td>\n",
              "      <td>2.0</td>\n",
              "    </tr>\n",
              "    <tr>\n",
              "      <th>2</th>\n",
              "      <td>10003</td>\n",
              "      <td>New York County</td>\n",
              "      <td>-73.99</td>\n",
              "      <td>40.73</td>\n",
              "      <td>POLYGON ((-73.99937 40.73132, -73.99911 40.731...</td>\n",
              "      <td>$140,000-159,999</td>\n",
              "      <td>8.0</td>\n",
              "    </tr>\n",
              "    <tr>\n",
              "      <th>3</th>\n",
              "      <td>10004</td>\n",
              "      <td>New York County</td>\n",
              "      <td>-74.02</td>\n",
              "      <td>40.69</td>\n",
              "      <td>MULTIPOLYGON (((-74.01769 40.70386, -74.01765 ...</td>\n",
              "      <td>$180,000-199,999</td>\n",
              "      <td>10.0</td>\n",
              "    </tr>\n",
              "    <tr>\n",
              "      <th>4</th>\n",
              "      <td>10005</td>\n",
              "      <td>New York County</td>\n",
              "      <td>-74.01</td>\n",
              "      <td>40.71</td>\n",
              "      <td>POLYGON ((-74.01251 40.70677, -74.01195 40.707...</td>\n",
              "      <td>$200,000+</td>\n",
              "      <td>11.0</td>\n",
              "    </tr>\n",
              "    <tr>\n",
              "      <th>...</th>\n",
              "      <td>...</td>\n",
              "      <td>...</td>\n",
              "      <td>...</td>\n",
              "      <td>...</td>\n",
              "      <td>...</td>\n",
              "      <td>...</td>\n",
              "      <td>...</td>\n",
              "    </tr>\n",
              "    <tr>\n",
              "      <th>206</th>\n",
              "      <td>11691</td>\n",
              "      <td>Queens County</td>\n",
              "      <td>-73.76</td>\n",
              "      <td>40.60</td>\n",
              "      <td>POLYGON ((-73.78926 40.59651, -73.78925 40.596...</td>\n",
              "      <td>$40,000-59,999</td>\n",
              "      <td>3.0</td>\n",
              "    </tr>\n",
              "    <tr>\n",
              "      <th>207</th>\n",
              "      <td>11692</td>\n",
              "      <td>Queens County</td>\n",
              "      <td>-73.79</td>\n",
              "      <td>40.59</td>\n",
              "      <td>POLYGON ((-73.80533 40.59052, -73.80452 40.590...</td>\n",
              "      <td>$40,000-59,999</td>\n",
              "      <td>3.0</td>\n",
              "    </tr>\n",
              "    <tr>\n",
              "      <th>208</th>\n",
              "      <td>11693</td>\n",
              "      <td>Queens County</td>\n",
              "      <td>-73.81</td>\n",
              "      <td>40.59</td>\n",
              "      <td>MULTIPOLYGON (((-73.82009 40.58698, -73.81936 ...</td>\n",
              "      <td>$60,000-79,999</td>\n",
              "      <td>4.0</td>\n",
              "    </tr>\n",
              "    <tr>\n",
              "      <th>209</th>\n",
              "      <td>11694</td>\n",
              "      <td>Queens County</td>\n",
              "      <td>-73.84</td>\n",
              "      <td>40.58</td>\n",
              "      <td>POLYGON ((-73.88305 40.56838, -73.88294 40.568...</td>\n",
              "      <td>$80,000-99,999</td>\n",
              "      <td>5.0</td>\n",
              "    </tr>\n",
              "    <tr>\n",
              "      <th>210</th>\n",
              "      <td>11697</td>\n",
              "      <td>Queens County</td>\n",
              "      <td>-73.91</td>\n",
              "      <td>40.56</td>\n",
              "      <td>POLYGON ((-73.94074 40.54182, -73.94013 40.548...</td>\n",
              "      <td>$100,000-119,999</td>\n",
              "      <td>6.0</td>\n",
              "    </tr>\n",
              "  </tbody>\n",
              "</table>\n",
              "<p>211 rows × 7 columns</p>\n",
              "</div>"
            ],
            "text/plain": [
              "       zip  ... median_income_average_numeric\n",
              "0    10001  ...                           6.0\n",
              "1    10002  ...                           2.0\n",
              "2    10003  ...                           8.0\n",
              "3    10004  ...                          10.0\n",
              "4    10005  ...                          11.0\n",
              "..     ...  ...                           ...\n",
              "206  11691  ...                           3.0\n",
              "207  11692  ...                           3.0\n",
              "208  11693  ...                           4.0\n",
              "209  11694  ...                           5.0\n",
              "210  11697  ...                           6.0\n",
              "\n",
              "[211 rows x 7 columns]"
            ]
          },
          "metadata": {},
          "execution_count": 122
        }
      ]
    },
    {
      "cell_type": "markdown",
      "metadata": {
        "id": "UrfgewzBwC7N"
      },
      "source": [
        "##Calculating Public Litter Basket & Public Food Waste Drop Off Site Density by Zip Code"
      ]
    },
    {
      "cell_type": "code",
      "metadata": {
        "id": "4IofvwbAvdQA"
      },
      "source": [
        "litter_basket_gdf = gpd.read_file(\"DSNY_Litter_Basket_Inventory/litter_basket_inventory.shp\")\n",
        "dsny_districts_gdf = gpd.read_file(\"DSNY_Districts/dsny_districts.shp\")\n",
        "food_scraps_gdf = gpd.read_file(\"Food_Scrap_Drop-Off_Locations_in_NYC/food_scrap_drop_off_locations.shp\")"
      ],
      "execution_count": 134,
      "outputs": []
    },
    {
      "cell_type": "code",
      "metadata": {
        "id": "qeMD7qV6w8k5"
      },
      "source": [
        "def getDistrictZip(district):\n",
        "    \"\"\"\n",
        "    function that returns a list of zip codes whose polgyons overlap with the given DNSY district's polygon to\n",
        "    determine which zip codes are a part of the DSNY district\n",
        "\n",
        "    Parameters\n",
        "    ----------\n",
        "    district : shapely.geometry.polygon.Polygon\n",
        "        DSNY district as shapely polygon object\n",
        "\n",
        "    Returns\n",
        "    -------\n",
        "    list of string values\n",
        "        Zip codes that overlap (are a part of) the given district\n",
        "    str\n",
        "        N/A if no overlap is found\n",
        "    \"\"\"\n",
        "    result = []\n",
        "    for x in ZCTA_income_gdf.index:\n",
        "        if district.overlaps(ZCTA_income_gdf.loc[x, \"geometry\"]):\n",
        "            result.append(ZCTA_income_gdf.loc[x, \"zip\"])\n",
        "    if len(result) == 0:\n",
        "        return \"N/A\"\n",
        "    else:\n",
        "        return result"
      ],
      "execution_count": 140,
      "outputs": []
    },
    {
      "cell_type": "code",
      "metadata": {
        "id": "oE0kdJqsw_j3"
      },
      "source": [
        "def getZip(basket):\n",
        "    \"\"\"\n",
        "    function that returns the zip code in the location of the given litter basket by checking\n",
        "    if the point is within the zipcode polygon\n",
        "\n",
        "    Parameters\n",
        "    ----------\n",
        "    basket : shapely.geometry.point.Point\n",
        "        NYC public litter basket as shapely polygon object\n",
        "\n",
        "    Returns\n",
        "    -------\n",
        "    str\n",
        "       name of Zip code in the location of the litter basket, N/A if not found \n",
        "\n",
        "    \"\"\"\n",
        "    for x in ZCTA_income_gdf.index:\n",
        "        if basket.within(ZCTA_income_gdf.loc[x, \"geometry\"]):\n",
        "            return(ZCTA_income_gdf.loc[x, \"zip\"])\n",
        "    return \"N/A\"     "
      ],
      "execution_count": 138,
      "outputs": []
    },
    {
      "cell_type": "markdown",
      "metadata": {
        "id": "t3Ft5YLUxFT5"
      },
      "source": [
        "#####Using the functions to retrieve zip codes for districts, baskets, and food scrap sites"
      ]
    },
    {
      "cell_type": "code",
      "metadata": {
        "id": "7jqIKJL1xCwG"
      },
      "source": [
        "dsny_districts_gdf[\"zipcode\"] = dsny_districts_gdf[\"geometry\"].apply(getDistrictZip)\n",
        "litter_basket_gdf[\"zipcode\"] = litter_basket_gdf[\"geometry\"].apply(getZip)\n",
        "food_scraps_gdf[\"zipcode\"] = food_scraps_gdf[\"geometry\"].apply(getZip)"
      ],
      "execution_count": 141,
      "outputs": []
    },
    {
      "cell_type": "markdown",
      "metadata": {
        "id": "2RLwtJXwx0WL"
      },
      "source": [
        "#####Aggregating geodataframe to count number of baskets per zip code"
      ]
    },
    {
      "cell_type": "code",
      "metadata": {
        "colab": {
          "base_uri": "https://localhost:8080/",
          "height": 424
        },
        "id": "7K75DsXlx3dE",
        "outputId": "b4aa6e92-1613-485f-f57b-571c8954cdb2"
      },
      "source": [
        "grouped_basket_gdf = litter_basket_gdf.assign()\n",
        "grouped_basket_gdf = grouped_basket_gdf.groupby(\"zipcode\").count()\n",
        "grouped_basket_gdf = grouped_basket_gdf.reset_index()\n",
        "grouped_basket_gdf = grouped_basket_gdf.rename({\"basketid\" : \"num_baskets\", \"zipcode\": \"zip\"}, axis=1)\n",
        "grouped_basket_gdf = grouped_basket_gdf[[\"zip\", \"num_baskets\"]]\n",
        "grouped_basket_gdf"
      ],
      "execution_count": 144,
      "outputs": [
        {
          "output_type": "execute_result",
          "data": {
            "text/html": [
              "<div>\n",
              "<style scoped>\n",
              "    .dataframe tbody tr th:only-of-type {\n",
              "        vertical-align: middle;\n",
              "    }\n",
              "\n",
              "    .dataframe tbody tr th {\n",
              "        vertical-align: top;\n",
              "    }\n",
              "\n",
              "    .dataframe thead th {\n",
              "        text-align: right;\n",
              "    }\n",
              "</style>\n",
              "<table border=\"1\" class=\"dataframe\">\n",
              "  <thead>\n",
              "    <tr style=\"text-align: right;\">\n",
              "      <th></th>\n",
              "      <th>zip</th>\n",
              "      <th>num_baskets</th>\n",
              "    </tr>\n",
              "  </thead>\n",
              "  <tbody>\n",
              "    <tr>\n",
              "      <th>0</th>\n",
              "      <td>10001</td>\n",
              "      <td>307</td>\n",
              "    </tr>\n",
              "    <tr>\n",
              "      <th>1</th>\n",
              "      <td>10002</td>\n",
              "      <td>280</td>\n",
              "    </tr>\n",
              "    <tr>\n",
              "      <th>2</th>\n",
              "      <td>10003</td>\n",
              "      <td>410</td>\n",
              "    </tr>\n",
              "    <tr>\n",
              "      <th>3</th>\n",
              "      <td>10004</td>\n",
              "      <td>61</td>\n",
              "    </tr>\n",
              "    <tr>\n",
              "      <th>4</th>\n",
              "      <td>10005</td>\n",
              "      <td>41</td>\n",
              "    </tr>\n",
              "    <tr>\n",
              "      <th>...</th>\n",
              "      <td>...</td>\n",
              "      <td>...</td>\n",
              "    </tr>\n",
              "    <tr>\n",
              "      <th>197</th>\n",
              "      <td>11691</td>\n",
              "      <td>73</td>\n",
              "    </tr>\n",
              "    <tr>\n",
              "      <th>198</th>\n",
              "      <td>11692</td>\n",
              "      <td>32</td>\n",
              "    </tr>\n",
              "    <tr>\n",
              "      <th>199</th>\n",
              "      <td>11693</td>\n",
              "      <td>57</td>\n",
              "    </tr>\n",
              "    <tr>\n",
              "      <th>200</th>\n",
              "      <td>11694</td>\n",
              "      <td>99</td>\n",
              "    </tr>\n",
              "    <tr>\n",
              "      <th>201</th>\n",
              "      <td>N/A</td>\n",
              "      <td>22</td>\n",
              "    </tr>\n",
              "  </tbody>\n",
              "</table>\n",
              "<p>202 rows × 2 columns</p>\n",
              "</div>"
            ],
            "text/plain": [
              "       zip  num_baskets\n",
              "0    10001          307\n",
              "1    10002          280\n",
              "2    10003          410\n",
              "3    10004           61\n",
              "4    10005           41\n",
              "..     ...          ...\n",
              "197  11691           73\n",
              "198  11692           32\n",
              "199  11693           57\n",
              "200  11694           99\n",
              "201    N/A           22\n",
              "\n",
              "[202 rows x 2 columns]"
            ]
          },
          "metadata": {},
          "execution_count": 144
        }
      ]
    },
    {
      "cell_type": "markdown",
      "metadata": {
        "id": "M2V6niDix8q8"
      },
      "source": [
        "#####Sub geodataframe of the main one comparing zip code to income and litter baskets"
      ]
    },
    {
      "cell_type": "code",
      "metadata": {
        "id": "gMuji_4Wx7qy"
      },
      "source": [
        "zipcode_income_basket_gdf = pd.merge(ZCTA_income_gdf, grouped_basket_gdf, how=\"left\", on=\"zip\")\n",
        "zipcode_income_basket_gdf"
      ],
      "execution_count": null,
      "outputs": []
    },
    {
      "cell_type": "markdown",
      "metadata": {
        "id": "sLyVITjUyTVD"
      },
      "source": [
        "#####Aggregating geodataframe to count number of food scrap sites per zip code"
      ]
    },
    {
      "cell_type": "code",
      "metadata": {
        "colab": {
          "base_uri": "https://localhost:8080/",
          "height": 424
        },
        "id": "TML9S28TyWjl",
        "outputId": "88d5ed44-6c66-49a4-e298-47b3f0356aed"
      },
      "source": [
        "grouped_scraps_gdf = food_scraps_gdf.assign()\n",
        "grouped_scraps_gdf = grouped_scraps_gdf.groupby(\"zipcode\").count()\n",
        "grouped_scraps_gdf = grouped_scraps_gdf.reset_index()\n",
        "grouped_scraps_gdf = grouped_scraps_gdf.rename({\"object_id\" : \"num_sites\", \"zipcode\": \"zip\"}, axis=1)\n",
        "grouped_scraps_gdf = grouped_scraps_gdf[[\"zip\", \"num_sites\"]]\n",
        "grouped_scraps_gdf"
      ],
      "execution_count": 148,
      "outputs": [
        {
          "output_type": "execute_result",
          "data": {
            "text/html": [
              "<div>\n",
              "<style scoped>\n",
              "    .dataframe tbody tr th:only-of-type {\n",
              "        vertical-align: middle;\n",
              "    }\n",
              "\n",
              "    .dataframe tbody tr th {\n",
              "        vertical-align: top;\n",
              "    }\n",
              "\n",
              "    .dataframe thead th {\n",
              "        text-align: right;\n",
              "    }\n",
              "</style>\n",
              "<table border=\"1\" class=\"dataframe\">\n",
              "  <thead>\n",
              "    <tr style=\"text-align: right;\">\n",
              "      <th></th>\n",
              "      <th>zip</th>\n",
              "      <th>num_sites</th>\n",
              "    </tr>\n",
              "  </thead>\n",
              "  <tbody>\n",
              "    <tr>\n",
              "      <th>0</th>\n",
              "      <td>10001</td>\n",
              "      <td>2</td>\n",
              "    </tr>\n",
              "    <tr>\n",
              "      <th>1</th>\n",
              "      <td>10002</td>\n",
              "      <td>2</td>\n",
              "    </tr>\n",
              "    <tr>\n",
              "      <th>2</th>\n",
              "      <td>10003</td>\n",
              "      <td>2</td>\n",
              "    </tr>\n",
              "    <tr>\n",
              "      <th>3</th>\n",
              "      <td>10004</td>\n",
              "      <td>5</td>\n",
              "    </tr>\n",
              "    <tr>\n",
              "      <th>4</th>\n",
              "      <td>10009</td>\n",
              "      <td>3</td>\n",
              "    </tr>\n",
              "    <tr>\n",
              "      <th>...</th>\n",
              "      <td>...</td>\n",
              "      <td>...</td>\n",
              "    </tr>\n",
              "    <tr>\n",
              "      <th>87</th>\n",
              "      <td>11432</td>\n",
              "      <td>1</td>\n",
              "    </tr>\n",
              "    <tr>\n",
              "      <th>88</th>\n",
              "      <td>11434</td>\n",
              "      <td>1</td>\n",
              "    </tr>\n",
              "    <tr>\n",
              "      <th>89</th>\n",
              "      <td>11435</td>\n",
              "      <td>2</td>\n",
              "    </tr>\n",
              "    <tr>\n",
              "      <th>90</th>\n",
              "      <td>11691</td>\n",
              "      <td>1</td>\n",
              "    </tr>\n",
              "    <tr>\n",
              "      <th>91</th>\n",
              "      <td>N/A</td>\n",
              "      <td>4</td>\n",
              "    </tr>\n",
              "  </tbody>\n",
              "</table>\n",
              "<p>92 rows × 2 columns</p>\n",
              "</div>"
            ],
            "text/plain": [
              "      zip  num_sites\n",
              "0   10001          2\n",
              "1   10002          2\n",
              "2   10003          2\n",
              "3   10004          5\n",
              "4   10009          3\n",
              "..    ...        ...\n",
              "87  11432          1\n",
              "88  11434          1\n",
              "89  11435          2\n",
              "90  11691          1\n",
              "91    N/A          4\n",
              "\n",
              "[92 rows x 2 columns]"
            ]
          },
          "metadata": {},
          "execution_count": 148
        }
      ]
    },
    {
      "cell_type": "markdown",
      "metadata": {
        "id": "VciefBwSyduy"
      },
      "source": [
        "#####Main geodataframe for comparing income to:\n",
        "- Number of publicly available litter baskets\n",
        "- Number of publicly available food waste drop off sites\n",
        "- Averge median income "
      ]
    },
    {
      "cell_type": "code",
      "metadata": {
        "colab": {
          "base_uri": "https://localhost:8080/",
          "height": 1000
        },
        "id": "2s7E9l0dykLb",
        "outputId": "53b0ac0e-4252-473c-97eb-15308353f3e6"
      },
      "source": [
        "zipcode_income_basket_scrap_gdf = pd.merge(zipcode_income_basket_gdf, grouped_scraps_gdf, how=\"left\", on=\"zip\")\n",
        "zipcode_income_basket_scrap_gdf\n"
      ],
      "execution_count": 151,
      "outputs": [
        {
          "output_type": "execute_result",
          "data": {
            "text/html": [
              "<div>\n",
              "<style scoped>\n",
              "    .dataframe tbody tr th:only-of-type {\n",
              "        vertical-align: middle;\n",
              "    }\n",
              "\n",
              "    .dataframe tbody tr th {\n",
              "        vertical-align: top;\n",
              "    }\n",
              "\n",
              "    .dataframe thead th {\n",
              "        text-align: right;\n",
              "    }\n",
              "</style>\n",
              "<table border=\"1\" class=\"dataframe\">\n",
              "  <thead>\n",
              "    <tr style=\"text-align: right;\">\n",
              "      <th></th>\n",
              "      <th>zip</th>\n",
              "      <th>county</th>\n",
              "      <th>longitude</th>\n",
              "      <th>latitude</th>\n",
              "      <th>geometry</th>\n",
              "      <th>median_income_average</th>\n",
              "      <th>median_income_average_numeric</th>\n",
              "      <th>num_baskets</th>\n",
              "      <th>num_sites</th>\n",
              "    </tr>\n",
              "  </thead>\n",
              "  <tbody>\n",
              "    <tr>\n",
              "      <th>0</th>\n",
              "      <td>10001</td>\n",
              "      <td>New York County</td>\n",
              "      <td>-74.00</td>\n",
              "      <td>40.75</td>\n",
              "      <td>POLYGON ((-74.00979 40.75308, -74.00832 40.752...</td>\n",
              "      <td>$100,000-119,999</td>\n",
              "      <td>6.0</td>\n",
              "      <td>307.0</td>\n",
              "      <td>2.0</td>\n",
              "    </tr>\n",
              "    <tr>\n",
              "      <th>1</th>\n",
              "      <td>10002</td>\n",
              "      <td>New York County</td>\n",
              "      <td>-73.99</td>\n",
              "      <td>40.71</td>\n",
              "      <td>POLYGON ((-73.99750 40.71407, -73.99709 40.714...</td>\n",
              "      <td>$20,000-39,999</td>\n",
              "      <td>2.0</td>\n",
              "      <td>280.0</td>\n",
              "      <td>2.0</td>\n",
              "    </tr>\n",
              "    <tr>\n",
              "      <th>2</th>\n",
              "      <td>10003</td>\n",
              "      <td>New York County</td>\n",
              "      <td>-73.99</td>\n",
              "      <td>40.73</td>\n",
              "      <td>POLYGON ((-73.99937 40.73132, -73.99911 40.731...</td>\n",
              "      <td>$140,000-159,999</td>\n",
              "      <td>8.0</td>\n",
              "      <td>410.0</td>\n",
              "      <td>2.0</td>\n",
              "    </tr>\n",
              "    <tr>\n",
              "      <th>3</th>\n",
              "      <td>10004</td>\n",
              "      <td>New York County</td>\n",
              "      <td>-74.02</td>\n",
              "      <td>40.69</td>\n",
              "      <td>MULTIPOLYGON (((-74.01769 40.70386, -74.01765 ...</td>\n",
              "      <td>$180,000-199,999</td>\n",
              "      <td>10.0</td>\n",
              "      <td>61.0</td>\n",
              "      <td>5.0</td>\n",
              "    </tr>\n",
              "    <tr>\n",
              "      <th>4</th>\n",
              "      <td>10005</td>\n",
              "      <td>New York County</td>\n",
              "      <td>-74.01</td>\n",
              "      <td>40.71</td>\n",
              "      <td>POLYGON ((-74.01251 40.70677, -74.01195 40.707...</td>\n",
              "      <td>$200,000+</td>\n",
              "      <td>11.0</td>\n",
              "      <td>41.0</td>\n",
              "      <td>NaN</td>\n",
              "    </tr>\n",
              "    <tr>\n",
              "      <th>...</th>\n",
              "      <td>...</td>\n",
              "      <td>...</td>\n",
              "      <td>...</td>\n",
              "      <td>...</td>\n",
              "      <td>...</td>\n",
              "      <td>...</td>\n",
              "      <td>...</td>\n",
              "      <td>...</td>\n",
              "      <td>...</td>\n",
              "    </tr>\n",
              "    <tr>\n",
              "      <th>206</th>\n",
              "      <td>11691</td>\n",
              "      <td>Queens County</td>\n",
              "      <td>-73.76</td>\n",
              "      <td>40.60</td>\n",
              "      <td>POLYGON ((-73.78926 40.59651, -73.78925 40.596...</td>\n",
              "      <td>$40,000-59,999</td>\n",
              "      <td>3.0</td>\n",
              "      <td>73.0</td>\n",
              "      <td>1.0</td>\n",
              "    </tr>\n",
              "    <tr>\n",
              "      <th>207</th>\n",
              "      <td>11692</td>\n",
              "      <td>Queens County</td>\n",
              "      <td>-73.79</td>\n",
              "      <td>40.59</td>\n",
              "      <td>POLYGON ((-73.80533 40.59052, -73.80452 40.590...</td>\n",
              "      <td>$40,000-59,999</td>\n",
              "      <td>3.0</td>\n",
              "      <td>32.0</td>\n",
              "      <td>NaN</td>\n",
              "    </tr>\n",
              "    <tr>\n",
              "      <th>208</th>\n",
              "      <td>11693</td>\n",
              "      <td>Queens County</td>\n",
              "      <td>-73.81</td>\n",
              "      <td>40.59</td>\n",
              "      <td>MULTIPOLYGON (((-73.82009 40.58698, -73.81936 ...</td>\n",
              "      <td>$60,000-79,999</td>\n",
              "      <td>4.0</td>\n",
              "      <td>57.0</td>\n",
              "      <td>NaN</td>\n",
              "    </tr>\n",
              "    <tr>\n",
              "      <th>209</th>\n",
              "      <td>11694</td>\n",
              "      <td>Queens County</td>\n",
              "      <td>-73.84</td>\n",
              "      <td>40.58</td>\n",
              "      <td>POLYGON ((-73.88305 40.56838, -73.88294 40.568...</td>\n",
              "      <td>$80,000-99,999</td>\n",
              "      <td>5.0</td>\n",
              "      <td>99.0</td>\n",
              "      <td>NaN</td>\n",
              "    </tr>\n",
              "    <tr>\n",
              "      <th>210</th>\n",
              "      <td>11697</td>\n",
              "      <td>Queens County</td>\n",
              "      <td>-73.91</td>\n",
              "      <td>40.56</td>\n",
              "      <td>POLYGON ((-73.94074 40.54182, -73.94013 40.548...</td>\n",
              "      <td>$100,000-119,999</td>\n",
              "      <td>6.0</td>\n",
              "      <td>NaN</td>\n",
              "      <td>NaN</td>\n",
              "    </tr>\n",
              "  </tbody>\n",
              "</table>\n",
              "<p>211 rows × 9 columns</p>\n",
              "</div>"
            ],
            "text/plain": [
              "       zip           county  ...  num_baskets  num_sites\n",
              "0    10001  New York County  ...        307.0        2.0\n",
              "1    10002  New York County  ...        280.0        2.0\n",
              "2    10003  New York County  ...        410.0        2.0\n",
              "3    10004  New York County  ...         61.0        5.0\n",
              "4    10005  New York County  ...         41.0        NaN\n",
              "..     ...              ...  ...          ...        ...\n",
              "206  11691    Queens County  ...         73.0        1.0\n",
              "207  11692    Queens County  ...         32.0        NaN\n",
              "208  11693    Queens County  ...         57.0        NaN\n",
              "209  11694    Queens County  ...         99.0        NaN\n",
              "210  11697    Queens County  ...          NaN        NaN\n",
              "\n",
              "[211 rows x 9 columns]"
            ]
          },
          "metadata": {},
          "execution_count": 151
        }
      ]
    },
    {
      "cell_type": "markdown",
      "metadata": {
        "id": "lMJXH_kzy-g4"
      },
      "source": [
        "##Spatial Data Map Creation"
      ]
    },
    {
      "cell_type": "code",
      "metadata": {
        "id": "DC0HOhnfzEWg"
      },
      "source": [
        "def getXCoord(point):\n",
        "    \"\"\"\n",
        "    function that returns the x coordinate of a point object passed in as a string\n",
        "\n",
        "    Parameters\n",
        "    ----------\n",
        "    point : string of Point class object\n",
        "        Ex: \"POINT (-73.79488819299996 40.79252126700004)\"\n",
        "\n",
        "    Returns\n",
        "    -------\n",
        "    string of x coordinate (Longitude)\n",
        "        Ex return: \"-73.79488819299996\"\n",
        "\n",
        "    \"\"\"\n",
        "    coord = point\n",
        "    coord = coord.split(\" \")\n",
        "    x_coord = coord[1][1:]\n",
        "    return float(x_coord)"
      ],
      "execution_count": 153,
      "outputs": []
    },
    {
      "cell_type": "code",
      "metadata": {
        "id": "EVkYONs4zXMD"
      },
      "source": [
        "def getYCoord(point):\n",
        "    \"\"\"\n",
        "    function that returns the y coordinate of a point object passed in as a string\n",
        "\n",
        "    Parameters\n",
        "    ----------\n",
        "    point : string of Point class object\n",
        "        Ex: \"POINT (-73.79488819299996 40.79252126700004)\"\n",
        "\n",
        "    Returns\n",
        "    -------\n",
        "    string of y coordinate (Latitude)\n",
        "        Ex return: \"40.79252126700004\"\n",
        "\n",
        "    \"\"\"\n",
        "    coord = point\n",
        "    coord = coord.split(\" \")\n",
        "    y_coord = coord[2][:-1]\n",
        "    return float(y_coord)"
      ],
      "execution_count": 154,
      "outputs": []
    },
    {
      "cell_type": "markdown",
      "metadata": {
        "id": "OdzDct1-zaXX"
      },
      "source": [
        "######Creation of analysis_map to compare features, centered on NYC"
      ]
    },
    {
      "cell_type": "code",
      "metadata": {
        "colab": {
          "base_uri": "https://localhost:8080/",
          "height": 531
        },
        "id": "Z-zaUfbqzeCV",
        "outputId": "5cb6980f-0a48-4040-b000-7981f0ac2d8f"
      },
      "source": [
        "analysis_map = folium.Map(\n",
        "    location=[40.730610, -73.935242],\n",
        "    tiles='cartodbpositron',\n",
        "    zoom_start=11)\n",
        "folium.TileLayer('OpenStreetMap').add_to(analysis_map)\n",
        "analysis_map"
      ],
      "execution_count": 181,
      "outputs": [
        {
          "output_type": "execute_result",
          "data": {
            "text/html": [
              "<div style=\"width:100%;\"><div style=\"position:relative;width:100%;height:0;padding-bottom:60%;\"><span style=\"color:#565656\">Make this Notebook Trusted to load map: File -> Trust Notebook</span><iframe src=\"about:blank\" style=\"position:absolute;width:100%;height:100%;left:0;top:0;border:none !important;\" data-html=%3C%21DOCTYPE%20html%3E%0A%3Chead%3E%20%20%20%20%0A%20%20%20%20%3Cmeta%20http-equiv%3D%22content-type%22%20content%3D%22text/html%3B%20charset%3DUTF-8%22%20/%3E%0A%20%20%20%20%3Cscript%3EL_PREFER_CANVAS%3Dfalse%3B%20L_NO_TOUCH%3Dfalse%3B%20L_DISABLE_3D%3Dfalse%3B%3C/script%3E%0A%20%20%20%20%3Cscript%20src%3D%22https%3A//cdn.jsdelivr.net/npm/leaflet%401.4.0/dist/leaflet.js%22%3E%3C/script%3E%0A%20%20%20%20%3Cscript%20src%3D%22https%3A//code.jquery.com/jquery-1.12.4.min.js%22%3E%3C/script%3E%0A%20%20%20%20%3Cscript%20src%3D%22https%3A//maxcdn.bootstrapcdn.com/bootstrap/3.2.0/js/bootstrap.min.js%22%3E%3C/script%3E%0A%20%20%20%20%3Cscript%20src%3D%22https%3A//cdnjs.cloudflare.com/ajax/libs/Leaflet.awesome-markers/2.0.2/leaflet.awesome-markers.js%22%3E%3C/script%3E%0A%20%20%20%20%3Clink%20rel%3D%22stylesheet%22%20href%3D%22https%3A//cdn.jsdelivr.net/npm/leaflet%401.4.0/dist/leaflet.css%22/%3E%0A%20%20%20%20%3Clink%20rel%3D%22stylesheet%22%20href%3D%22https%3A//maxcdn.bootstrapcdn.com/bootstrap/3.2.0/css/bootstrap.min.css%22/%3E%0A%20%20%20%20%3Clink%20rel%3D%22stylesheet%22%20href%3D%22https%3A//maxcdn.bootstrapcdn.com/bootstrap/3.2.0/css/bootstrap-theme.min.css%22/%3E%0A%20%20%20%20%3Clink%20rel%3D%22stylesheet%22%20href%3D%22https%3A//maxcdn.bootstrapcdn.com/font-awesome/4.6.3/css/font-awesome.min.css%22/%3E%0A%20%20%20%20%3Clink%20rel%3D%22stylesheet%22%20href%3D%22https%3A//cdnjs.cloudflare.com/ajax/libs/Leaflet.awesome-markers/2.0.2/leaflet.awesome-markers.css%22/%3E%0A%20%20%20%20%3Clink%20rel%3D%22stylesheet%22%20href%3D%22https%3A//rawcdn.githack.com/python-visualization/folium/master/folium/templates/leaflet.awesome.rotate.css%22/%3E%0A%20%20%20%20%3Cstyle%3Ehtml%2C%20body%20%7Bwidth%3A%20100%25%3Bheight%3A%20100%25%3Bmargin%3A%200%3Bpadding%3A%200%3B%7D%3C/style%3E%0A%20%20%20%20%3Cstyle%3E%23map%20%7Bposition%3Aabsolute%3Btop%3A0%3Bbottom%3A0%3Bright%3A0%3Bleft%3A0%3B%7D%3C/style%3E%0A%20%20%20%20%0A%20%20%20%20%3Cmeta%20name%3D%22viewport%22%20content%3D%22width%3Ddevice-width%2C%0A%20%20%20%20%20%20%20%20initial-scale%3D1.0%2C%20maximum-scale%3D1.0%2C%20user-scalable%3Dno%22%20/%3E%0A%20%20%20%20%3Cstyle%3E%23map_930f07bd86cc4372814a680ac6afe96d%20%7B%0A%20%20%20%20%20%20%20%20position%3A%20relative%3B%0A%20%20%20%20%20%20%20%20width%3A%20100.0%25%3B%0A%20%20%20%20%20%20%20%20height%3A%20100.0%25%3B%0A%20%20%20%20%20%20%20%20left%3A%200.0%25%3B%0A%20%20%20%20%20%20%20%20top%3A%200.0%25%3B%0A%20%20%20%20%20%20%20%20%7D%0A%20%20%20%20%3C/style%3E%0A%3C/head%3E%0A%3Cbody%3E%20%20%20%20%0A%20%20%20%20%0A%20%20%20%20%3Cdiv%20class%3D%22folium-map%22%20id%3D%22map_930f07bd86cc4372814a680ac6afe96d%22%20%3E%3C/div%3E%0A%3C/body%3E%0A%3Cscript%3E%20%20%20%20%0A%20%20%20%20%0A%20%20%20%20%0A%20%20%20%20%20%20%20%20var%20bounds%20%3D%20null%3B%0A%20%20%20%20%0A%0A%20%20%20%20var%20map_930f07bd86cc4372814a680ac6afe96d%20%3D%20L.map%28%0A%20%20%20%20%20%20%20%20%27map_930f07bd86cc4372814a680ac6afe96d%27%2C%20%7B%0A%20%20%20%20%20%20%20%20center%3A%20%5B40.73061%2C%20-73.935242%5D%2C%0A%20%20%20%20%20%20%20%20zoom%3A%2011%2C%0A%20%20%20%20%20%20%20%20maxBounds%3A%20bounds%2C%0A%20%20%20%20%20%20%20%20layers%3A%20%5B%5D%2C%0A%20%20%20%20%20%20%20%20worldCopyJump%3A%20false%2C%0A%20%20%20%20%20%20%20%20crs%3A%20L.CRS.EPSG3857%2C%0A%20%20%20%20%20%20%20%20zoomControl%3A%20true%2C%0A%20%20%20%20%20%20%20%20%7D%29%3B%0A%0A%0A%20%20%20%20%0A%20%20%20%20var%20tile_layer_b91eaaea099e4faf87449cd3d942fd7a%20%3D%20L.tileLayer%28%0A%20%20%20%20%20%20%20%20%27https%3A//cartodb-basemaps-%7Bs%7D.global.ssl.fastly.net/light_all/%7Bz%7D/%7Bx%7D/%7By%7D.png%27%2C%0A%20%20%20%20%20%20%20%20%7B%0A%20%20%20%20%20%20%20%20%22attribution%22%3A%20null%2C%0A%20%20%20%20%20%20%20%20%22detectRetina%22%3A%20false%2C%0A%20%20%20%20%20%20%20%20%22maxNativeZoom%22%3A%2018%2C%0A%20%20%20%20%20%20%20%20%22maxZoom%22%3A%2018%2C%0A%20%20%20%20%20%20%20%20%22minZoom%22%3A%200%2C%0A%20%20%20%20%20%20%20%20%22noWrap%22%3A%20false%2C%0A%20%20%20%20%20%20%20%20%22opacity%22%3A%201%2C%0A%20%20%20%20%20%20%20%20%22subdomains%22%3A%20%22abc%22%2C%0A%20%20%20%20%20%20%20%20%22tms%22%3A%20false%0A%7D%29.addTo%28map_930f07bd86cc4372814a680ac6afe96d%29%3B%0A%20%20%20%20var%20tile_layer_6cead3afbe9b475db9613e0f18add09e%20%3D%20L.tileLayer%28%0A%20%20%20%20%20%20%20%20%27https%3A//%7Bs%7D.tile.openstreetmap.org/%7Bz%7D/%7Bx%7D/%7By%7D.png%27%2C%0A%20%20%20%20%20%20%20%20%7B%0A%20%20%20%20%20%20%20%20%22attribution%22%3A%20null%2C%0A%20%20%20%20%20%20%20%20%22detectRetina%22%3A%20false%2C%0A%20%20%20%20%20%20%20%20%22maxNativeZoom%22%3A%2018%2C%0A%20%20%20%20%20%20%20%20%22maxZoom%22%3A%2018%2C%0A%20%20%20%20%20%20%20%20%22minZoom%22%3A%200%2C%0A%20%20%20%20%20%20%20%20%22noWrap%22%3A%20false%2C%0A%20%20%20%20%20%20%20%20%22opacity%22%3A%201%2C%0A%20%20%20%20%20%20%20%20%22subdomains%22%3A%20%22abc%22%2C%0A%20%20%20%20%20%20%20%20%22tms%22%3A%20false%0A%7D%29.addTo%28map_930f07bd86cc4372814a680ac6afe96d%29%3B%0A%3C/script%3E onload=\"this.contentDocument.open();this.contentDocument.write(    decodeURIComponent(this.getAttribute('data-html')));this.contentDocument.close();\" allowfullscreen webkitallowfullscreen mozallowfullscreen></iframe></div></div>"
            ],
            "text/plain": [
              "<folium.folium.Map at 0x7ff5a3890990>"
            ]
          },
          "metadata": {},
          "execution_count": 181
        }
      ]
    },
    {
      "cell_type": "markdown",
      "metadata": {
        "id": "VQX_l-VxzsJg"
      },
      "source": [
        "#####Note: Seems easier to create MarkerCluster class with locations from .csv file than .shp\n",
        "#####Start of cleaning, filtering, and extracting location data of public litter baskets"
      ]
    },
    {
      "cell_type": "code",
      "metadata": {
        "id": "jOiIByr3zxSb"
      },
      "source": [
        "litter_baskets = pd.read_csv(\"DSNY_Litter_Basket_Inventory/DSNY_Litter_Basket_Inventory.csv\")\n",
        "basket_gdf = gpd.GeoDataFrame(litter_baskets[[\"SECTION\", \"BASKETTYPE\", \"point\"]])"
      ],
      "execution_count": 182,
      "outputs": []
    },
    {
      "cell_type": "markdown",
      "metadata": {
        "id": "2C5u_tfJz6-d"
      },
      "source": [
        "#####Applying functions to get the coordinates"
      ]
    },
    {
      "cell_type": "code",
      "metadata": {
        "colab": {
          "base_uri": "https://localhost:8080/",
          "height": 424
        },
        "id": "s5B4D0Q8z8-q",
        "outputId": "607fc9e8-4f49-4c12-9646-c6bbdbb1b636"
      },
      "source": [
        "basket_gdf[\"Long\"] = basket_gdf[\"point\"].apply(getXCoord)\n",
        "basket_gdf[\"Lat\"] = basket_gdf[\"point\"].apply(getYCoord)\n",
        "basket_gdf"
      ],
      "execution_count": 183,
      "outputs": [
        {
          "output_type": "execute_result",
          "data": {
            "text/html": [
              "<div>\n",
              "<style scoped>\n",
              "    .dataframe tbody tr th:only-of-type {\n",
              "        vertical-align: middle;\n",
              "    }\n",
              "\n",
              "    .dataframe tbody tr th {\n",
              "        vertical-align: top;\n",
              "    }\n",
              "\n",
              "    .dataframe thead th {\n",
              "        text-align: right;\n",
              "    }\n",
              "</style>\n",
              "<table border=\"1\" class=\"dataframe\">\n",
              "  <thead>\n",
              "    <tr style=\"text-align: right;\">\n",
              "      <th></th>\n",
              "      <th>SECTION</th>\n",
              "      <th>BASKETTYPE</th>\n",
              "      <th>point</th>\n",
              "      <th>Long</th>\n",
              "      <th>Lat</th>\n",
              "    </tr>\n",
              "  </thead>\n",
              "  <tbody>\n",
              "    <tr>\n",
              "      <th>0</th>\n",
              "      <td>QE078</td>\n",
              "      <td>H</td>\n",
              "      <td>POINT (-73.79488819299996 40.79252126700004)</td>\n",
              "      <td>-73.794888</td>\n",
              "      <td>40.792521</td>\n",
              "    </tr>\n",
              "    <tr>\n",
              "      <th>1</th>\n",
              "      <td>QE083</td>\n",
              "      <td>R</td>\n",
              "      <td>POINT (-73.81949439499994 40.73456626300003)</td>\n",
              "      <td>-73.819494</td>\n",
              "      <td>40.734566</td>\n",
              "    </tr>\n",
              "    <tr>\n",
              "      <th>2</th>\n",
              "      <td>BX071</td>\n",
              "      <td>H</td>\n",
              "      <td>POINT (-73.90348256799996 40.86820017500003)</td>\n",
              "      <td>-73.903483</td>\n",
              "      <td>40.868200</td>\n",
              "    </tr>\n",
              "    <tr>\n",
              "      <th>3</th>\n",
              "      <td>MN061</td>\n",
              "      <td>S</td>\n",
              "      <td>POINT (-73.98010683599995 40.73861667800003)</td>\n",
              "      <td>-73.980107</td>\n",
              "      <td>40.738617</td>\n",
              "    </tr>\n",
              "    <tr>\n",
              "      <th>4</th>\n",
              "      <td>BX121</td>\n",
              "      <td>S</td>\n",
              "      <td>POINT (-73.86738843799998 40.87125820800003)</td>\n",
              "      <td>-73.867388</td>\n",
              "      <td>40.871258</td>\n",
              "    </tr>\n",
              "    <tr>\n",
              "      <th>...</th>\n",
              "      <td>...</td>\n",
              "      <td>...</td>\n",
              "      <td>...</td>\n",
              "      <td>...</td>\n",
              "      <td>...</td>\n",
              "    </tr>\n",
              "    <tr>\n",
              "      <th>23214</th>\n",
              "      <td>BX062</td>\n",
              "      <td>S</td>\n",
              "      <td>POINT (-73.88557818999993 40.84449742900006)</td>\n",
              "      <td>-73.885578</td>\n",
              "      <td>40.844497</td>\n",
              "    </tr>\n",
              "    <tr>\n",
              "      <th>23215</th>\n",
              "      <td>MN081</td>\n",
              "      <td>S</td>\n",
              "      <td>POINT (-73.96802895699994 40.76855951300007)</td>\n",
              "      <td>-73.968029</td>\n",
              "      <td>40.768560</td>\n",
              "    </tr>\n",
              "    <tr>\n",
              "      <th>23216</th>\n",
              "      <td>BX071</td>\n",
              "      <td>H</td>\n",
              "      <td>POINT (-73.90158499599995 40.86254218400006)</td>\n",
              "      <td>-73.901585</td>\n",
              "      <td>40.862542</td>\n",
              "    </tr>\n",
              "    <tr>\n",
              "      <th>23217</th>\n",
              "      <td>BKN014</td>\n",
              "      <td>S</td>\n",
              "      <td>POINT (-73.96118728899995 40.70850006200004)</td>\n",
              "      <td>-73.961187</td>\n",
              "      <td>40.708500</td>\n",
              "    </tr>\n",
              "    <tr>\n",
              "      <th>23218</th>\n",
              "      <td>MN082</td>\n",
              "      <td>R</td>\n",
              "      <td>POINT (-73.95493347599995 40.76892088400007)</td>\n",
              "      <td>-73.954933</td>\n",
              "      <td>40.768921</td>\n",
              "    </tr>\n",
              "  </tbody>\n",
              "</table>\n",
              "<p>23219 rows × 5 columns</p>\n",
              "</div>"
            ],
            "text/plain": [
              "      SECTION BASKETTYPE  ...       Long        Lat\n",
              "0       QE078          H  ... -73.794888  40.792521\n",
              "1       QE083          R  ... -73.819494  40.734566\n",
              "2       BX071          H  ... -73.903483  40.868200\n",
              "3       MN061          S  ... -73.980107  40.738617\n",
              "4       BX121          S  ... -73.867388  40.871258\n",
              "...       ...        ...  ...        ...        ...\n",
              "23214   BX062          S  ... -73.885578  40.844497\n",
              "23215   MN081          S  ... -73.968029  40.768560\n",
              "23216   BX071          H  ... -73.901585  40.862542\n",
              "23217  BKN014          S  ... -73.961187  40.708500\n",
              "23218   MN082          R  ... -73.954933  40.768921\n",
              "\n",
              "[23219 rows x 5 columns]"
            ]
          },
          "metadata": {},
          "execution_count": 183
        }
      ]
    },
    {
      "cell_type": "markdown",
      "metadata": {
        "id": "kTRucZ-i0H0J"
      },
      "source": [
        "#####Adding each location as a marker in the marker cluster\n",
        "#####Creating a layer over the map that can be controlled through layer controls\n",
        "#####Using trash icon from font-awesome and making popups that show the litter basket's\n",
        "#####DSNY sanitation section"
      ]
    },
    {
      "cell_type": "code",
      "metadata": {
        "id": "VTc7ifyS0Pfi"
      },
      "source": [
        "basket_locations = list(zip(basket_gdf.Lat, basket_gdf.Long))\n",
        "basket_icons = [folium.Icon(icon=\"trash\", prefix=\"fa\") for _ in range(len(basket_locations))]\n",
        "basket_labels = [folium.Popup(str(\"Litter Basket - DSNY District: \" + x[:-1] + \", Section: \" + x[-1:]), max_width=300) for x in basket_gdf.SECTION]\n",
        "basket_cluster = MarkerCluster(locations=basket_locations, icons=basket_icons, popups=basket_labels, name=\"Public Litter Baskets\")\n",
        "analysis_map.add_child(basket_cluster)\n",
        "analysis_map"
      ],
      "execution_count": 184,
      "outputs": []
    },
    {
      "cell_type": "markdown",
      "metadata": {
        "id": "tpmAp9Ps1ikY"
      },
      "source": [
        "#####End of public litter basket data usage\n",
        "\n",
        "\n",
        "#####Start of cleaning, filtering, and extracting location data of public food scrap drop-off sites"
      ]
    },
    {
      "cell_type": "code",
      "metadata": {
        "id": "NgblzMlb1p7K"
      },
      "source": [
        "food_scrap_df = pd.read_csv(\"Food_Scrap_Drop-Off_Locations_in_NYC/Food_Scrap_Drop-Off_Locations_in_NYC.csv\")\n",
        "scrap_gdf = gpd.GeoDataFrame(food_scrap_df[[\"Borough\", \"Food_Scrap_Drop_Off_Site_Name\", \"Longitude\", \"Latitude\", \"Operation_Day_Hours\",\n",
        "                                         \"Open_Months\"]])\n",
        "scrap_locations = list(zip(scrap_gdf.Latitude, scrap_gdf.Longitude))\n",
        "scrap_icons = [folium.Icon(color=\"green\", icon=\"recycle\", prefix=\"fa\") for _ in range(len(scrap_locations))]\n",
        " \n",
        "scrap_labels = [folium.Popup(\"Borough: \" + x + \" - \" + \"Name: \" + y + \" - \" + \"Operation Hours: \" + z + \" - \" + \"Open Months: \" + a, \n",
        "                             max_width=300) for x,y,z,a in list(zip(scrap_gdf[\"Borough\"], scrap_gdf[\"Food_Scrap_Drop_Off_Site_Name\"],\n",
        "                                                                                   scrap_gdf[\"Operation_Day_Hours\"], scrap_gdf[\"Open_Months\"]))]\n",
        "scrap_cluster = MarkerCluster(locations=scrap_locations, icons=scrap_icons, popups=scrap_labels, name=\"Public Food Scrap Drop Off Sites\")\n",
        "analysis_map.add_child(scrap_cluster)"
      ],
      "execution_count": 163,
      "outputs": []
    },
    {
      "cell_type": "markdown",
      "metadata": {
        "id": "SOTHTr-p2DU6"
      },
      "source": [
        "#####End of public food scrap site data usage\n",
        "\n",
        "\n",
        "#####Start of taking DSNY Districts shapefile and converting to GeoJson to plot into analysis map"
      ]
    },
    {
      "cell_type": "code",
      "metadata": {
        "colab": {
          "base_uri": "https://localhost:8080/"
        },
        "id": "fsDDEDH22Hcl",
        "outputId": "74555be3-0895-4fb3-9c8d-fd2243ad87fc"
      },
      "source": [
        "dsny_districts = gpd.read_file(\"DSNY_Districts/dsny_districts.shp\")\n",
        "district_json = dsny_districts.to_json()\n",
        "geo_json = folium.GeoJson(data=district_json, name=\"DSNY Districts\",\n",
        "                          style_function=lambda x: {'fillColor': 'green'}, show=False)\n",
        "geo_json.add_to(analysis_map)"
      ],
      "execution_count": 164,
      "outputs": [
        {
          "output_type": "execute_result",
          "data": {
            "text/plain": [
              "<folium.features.GeoJson at 0x7ff5e72fd2d0>"
            ]
          },
          "metadata": {},
          "execution_count": 164
        }
      ]
    },
    {
      "cell_type": "markdown",
      "metadata": {
        "id": "w3jLTcyA2Qee"
      },
      "source": [
        "#####End of DSNY district data usage\n",
        "\n",
        "\n",
        "#####Start of taking the zipcode & income geodataframe and converting to GeoJson to plot into analysis map"
      ]
    },
    {
      "cell_type": "code",
      "metadata": {
        "colab": {
          "base_uri": "https://localhost:8080/"
        },
        "id": "ZMmm4uW_2VyH",
        "outputId": "fb5a085d-2051-488c-d2a3-b7a388d61c51"
      },
      "source": [
        "zip_json = ZCTA_income_gdf.to_json()\n",
        "zip_geo_json = folium.GeoJson(data=zip_json, name=\"Zip Code Tabulation Areas (ZCTA)\",\n",
        "                                 style_function=lambda x: {'fillColor': 'orange'})\n",
        "zip_geo_json.add_to(analysis_map)"
      ],
      "execution_count": 167,
      "outputs": [
        {
          "output_type": "execute_result",
          "data": {
            "text/plain": [
              "<folium.features.GeoJson at 0x7ff5e72e6950>"
            ]
          },
          "metadata": {},
          "execution_count": 167
        }
      ]
    },
    {
      "cell_type": "markdown",
      "metadata": {
        "id": "IDh8SRv12xAi"
      },
      "source": [
        "#####End of Zip Code Tabulation Areas data usage\n",
        "#####Added layer control to toggle info on map on/off"
      ]
    },
    {
      "cell_type": "code",
      "metadata": {
        "id": "VHJ5cZZY2y4_"
      },
      "source": [
        "folium.LayerControl(collapsed=False).add_to(analysis_map)\n",
        "analysis_map.save(\"analysis_map.html\")\n",
        "analysis_map"
      ],
      "execution_count": 173,
      "outputs": []
    },
    {
      "cell_type": "markdown",
      "metadata": {
        "id": "z68Y99BUDHOR"
      },
      "source": [
        "#####Note: In the case where the analysis map takes too long to load, here is a image of the map from the analysis_map.html (hoping to correct this issue for the final product)"
      ]
    },
    {
      "cell_type": "code",
      "metadata": {
        "colab": {
          "base_uri": "https://localhost:8080/",
          "height": 438
        },
        "id": "VCjT5aqjEX8x",
        "outputId": "672a7b2b-a780-4034-bf87-6d3db7c56018"
      },
      "source": [
        "display(Image(\"analysis_map.png\"))"
      ],
      "execution_count": 206,
      "outputs": [
        {
          "output_type": "display_data",
          "data": {
            "image/png": "[encoded data removed]",
            "text/plain": [
              "<IPython.core.display.Image object>"
            ]
          },
          "metadata": {}
        }
      ]
    },
    {
      "cell_type": "markdown",
      "metadata": {
        "id": "iK9EwFci5Nzl"
      },
      "source": [
        "##Vizualizing Data\n",
        "- Zip code to income\n",
        "- Zip code to public litter baskets\n",
        "- Zip code to food scrap sites"
      ]
    },
    {
      "cell_type": "code",
      "metadata": {
        "id": "oPA78r3x3FoE"
      },
      "source": [
        "gdf = zipcode_income_basket_scrap_gdf\n",
        "gdf = gdf.rename({\"zip\" : \"zip_code\"}, axis=1)\n",
        "gdf[\"median_income_average\"].replace({\"N/A\" : np.nan}, inplace=True)\n",
        "gdf = gdf.dropna(subset=[\"median_income_average\", \"num_sites\"])"
      ],
      "execution_count": 176,
      "outputs": []
    },
    {
      "cell_type": "code",
      "metadata": {
        "id": "bsyrAb3U6FuU"
      },
      "source": [
        "highest_basket_gdf = gdf.sort_values(\"num_baskets\", ascending=False)[:20]\n",
        "highest_basket_gdf = highest_basket_gdf.reset_index(drop=True)\n",
        "highest_basket_gdf[\"zip_code\"] = highest_basket_gdf[\"zip_code\"].astype(str)"
      ],
      "execution_count": 177,
      "outputs": []
    },
    {
      "cell_type": "code",
      "metadata": {
        "colab": {
          "base_uri": "https://localhost:8080/",
          "height": 315
        },
        "id": "-3YYWeMM6IEu",
        "outputId": "b32d6947-21c4-495e-fa2a-4735ad9c7e2f"
      },
      "source": [
        "ax = sns.barplot(x=\"zip_code\", y=\"num_baskets\", hue=\"median_income_average\", \n",
        "                 dodge=False, data=highest_basket_gdf)\n",
        "ax.set_xticklabels(ax.get_xticklabels(), rotation = 45)\n",
        "ax.set(xlabel=\"Zip Code\", ylabel=\"No. of Public Litter Baskets\", title=\"Twenty Zip Codes With Highest Number of Public Litter Baskets\")\n",
        "ax.legend(title=\"Average Median Income\", bbox_to_anchor=(1.05, 1))\n",
        "plt.savefig(\"Twenty_Highest_Num_of_Baskets.png\", bbox_inches='tight', dpi=300)\n",
        "plt.show()"
      ],
      "execution_count": 179,
      "outputs": [
        {
          "output_type": "display_data",
          "data": {
            "image/png": "[encoded data removed]",
            "text/plain": [
              "<Figure size 432x288 with 1 Axes>"
            ]
          },
          "metadata": {
            "needs_background": "light"
          }
        }
      ]
    },
    {
      "cell_type": "code",
      "metadata": {
        "id": "eJ4L_uwM6O0w"
      },
      "source": [
        "plt.clf()"
      ],
      "execution_count": null,
      "outputs": []
    },
    {
      "cell_type": "code",
      "metadata": {
        "colab": {
          "base_uri": "https://localhost:8080/",
          "height": 297
        },
        "id": "sgf4LcMM6Tnl",
        "outputId": "a46a857c-6114-4599-ac0b-46da8a818ab1"
      },
      "source": [
        "x_values = gdf[\"median_income_average\"]\n",
        "y_values = gdf[\"num_baskets\"]\n",
        "\n",
        "ax2 = plt.scatter(x_values, y_values)\n",
        "\n",
        "plt.xlabel(\"Average Median Income\")\n",
        "plt.ylabel(\"No. of Public Litter Baskets\")\n",
        "plt.title(\"Average Median Income vs No. of Public Litter Baskets\")\n",
        "plt.xticks(rotation=90)\n",
        "plt.tight_layout()\n",
        "plt.savefig(\"Average_Median_Income_vs_Baskets.png\", bbox_inches='tight', dpi=300)"
      ],
      "execution_count": 180,
      "outputs": [
        {
          "output_type": "display_data",
          "data": {
            "image/png": "[encoded data removed]",
            "text/plain": [
              "<Figure size 432x288 with 1 Axes>"
            ]
          },
          "metadata": {
            "needs_background": "light"
          }
        }
      ]
    },
    {
      "cell_type": "markdown",
      "metadata": {
        "id": "Nd-nVuUmJzp_"
      },
      "source": [
        "##What's Next?!\n",
        "- Monthly Tonnage Analysis\n",
        "  - Working on making a choropleth map for monthly tonnage by zip code\n",
        "  - Make more analysis graphs featuring this data\n",
        "- Revising Current Plans\n",
        "  - Aiming to host a website that will feature my detailed map and cohesively show my analysis instead of guidance through code alone\n",
        "- Explore Restauarant Inspection Data\n",
        "  - Originally had analysis for seeing a connection between zip code, tonnage, and density of fast-food chain restaurants in the area. However, due to much issue cleaning and filtering the data, another kind of analysis will be done\n",
        "  "
      ]
    }
  ]
}